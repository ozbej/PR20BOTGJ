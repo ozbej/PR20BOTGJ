{
 "cells": [
  {
   "cell_type": "markdown",
   "metadata": {},
   "source": [
    "## Analiza prometnih nesreč leta 2019 (v Sloveniji)\n",
    "\n",
    "# Projektna naloga pri predmetu Podatkovno rudarjenje\n",
    "Mentor: doc. dr. Tomaž Curk\n",
    "\n",
    "## Člani skupine\n",
    "\n",
    "| Ime in priimek | Vpisna številka |\n",
    "| --- | --------------- |\n",
    "| Bian Klančnik | 63180147 |\n",
    "| Jan Weissenbach | 63180322 |\n",
    "| Gal Lindič | 63180182 |\n",
    "| Tadej Ločniškar | 63180184 |\n",
    "| Ožbej Golob | 63180105 |\n",
    "\n",
    "## Uvod\n",
    "\n",
    "Pri projektni nalogi smo si izbrali podatkovno zbirko, ki beleži različne podatke o prometnih nesrečah v letu 2019. Nad podatki smo izvedli analizo in obdelali podatke, ki so se nam zdeli zanimivi. Rezultate smo predstavili tudi s pomočjo različnih vizualizacij.\n",
    "\n",
    "## Opis podatkovne zbirke\n",
    "\n",
    "Za temo projektne naloge smo si izbrali podatkovno zbirko [Prometne nesreče v letu 2019](https://www.policija.si/o-slovenski-policiji/statistika/prometna-varnost).\n",
    "\n",
    "Atributi se nahajajo v `podatki/pn2019.csv`.  \n",
    "Pomembni atributi, ki smo jih analizirali: UraPN, VzrokNesrece, TipNesrece, VremenskeOkoliscine, StanjeVozisca, Povzrocitelj, Starost, Spol, Drzavljanstvo, UporabaVarnostnegaPasu, VozniskiStazVLetih, VozniskiStazVMesecih, VrednostAlkotesta.\n",
    "\n",
    "## Cilji\n",
    "\n",
    "* Vpliv alkohola, spola in vozniškega staža na število povzročenih nesreč\n",
    "* Vpliv tipa nesreče in uporabe varnostnega pasu na tip poškodbe\n",
    "* Odkriti regije v Sloveniji, kjer je gostota nesreč največja\n",
    "* Zgraditi uspešen klasifikacijski model, ki napove izzid nesreče (tip poškodbe/materialna škoda)\n",
    "\n",
    "## Predstavitev rezultatov"
   ]
  },
  {
   "cell_type": "markdown",
   "metadata": {},
   "source": [
    "### Vpliv alkohola na število povzročenih nesreč\n",
    "\n",
    "Pri obdelavi podatkov smo ugotovili, da so v letu 2019 pijani vozniki povzročili **6.3%** vseh nesreč.  \n",
    "Od vseh nesreč je imelo smrtno žrtev **0.5%** nesreč. Proti pričakovanjem pa se je od vseh nesreč, ki jih je povzročil pijan voznik, s smrtno žrtvijo končalo samo **0.2%**.\n",
    "\n",
    "Pri pijanih voznikih smo pričakovali, da se bo število nesreč proti večeru večalo. Največje število nesreč smo pričakovali nekje med 1. in 3. uro zjutraj.\n",
    "\n",
    "<img src=\"grafi/ozbej_ure.png\" alt=\"Slika\" style=\"width: 400px;\"/>\n",
    "\n",
    "Po vizualizaciji smo ugotovili, da je največ nesreč zaradi pijanih voznikov **ob 19. uri**. Presenetljivo po tem začne število nesreč padati."
   ]
  },
  {
   "cell_type": "markdown",
   "metadata": {},
   "source": [
    "### Vpliv spola na število povzročenih nesreč\n",
    "\n",
    "Splošno mnenje (moških) je, da so ženske slabše voznice, zato smo se odločili preveriti število povzročenih nesreč glede na spol.\n",
    "\n",
    "<img src=\"grafi/tadej_spol.png\" alt=\"Slika\" style=\"width: 400px;\"/>\n",
    "\n",
    "Po vizualizaciji opazimo, da so moški povzročili približno **dvakrat več** nesreč kot ženske. Da bi lahko točno določili, kdo procentualno povzroči več nesreč, bi rabili dostop do podatkov, ki povejo, koliko voznikov z izpitom je moških in koliko žensk. Vendar pa takšne odprte podatkovne zbirke nismo našli, zato smo pogledali število moških in žensk v Sloveniji in predpostavili, da je delež voznikov glede na spol podoben kot delež vsega prebivalstva glede na spol. \n",
    "\n",
    "Po podatkih iz [SiStat](https://pxweb.stat.si/SiStat/en) je leta 2019 v Sloveniji prebivalo 1,043,933.25 moških in 1,043,211.5 žensk (povprečno), tako da je delež moških in žensk razporejen enakomerno 50-50. Če predpostavimo, da je tudi delež voznikov glede na spol približno 50-50, ugotovimo, da moški procentualno povzročijo veliko več nesreč kot ženske. "
   ]
  },
  {
   "cell_type": "markdown",
   "metadata": {},
   "source": [
    "### Vpliv dolžine vozniškega staža na število povzročenih nesreč\n",
    "\n",
    "Splošno mnenje ljudi je, da mladi vozniki povzročijo več nesreč kot izkušeni. Zato smo se odločili, da bomo to hipotezo preverili.\n",
    "\n",
    "<img src=\"grafi/ozbej_staz.png\" alt=\"Slika\" style=\"width: 400px;\"/>\n",
    "\n",
    "Kot vidimo na grafu, je število ljudi z dolžino vozniškega staža 0 let sumljivo veliko. Zaradi tega je zgrajen regresijski model neuporaben (MSE je enak **87851.76**).\n",
    "\n",
    "Predpostavili smo, da so v podatkovni zbirki vnosi z dolžino staža 0 let in 0 mesecev neznane vrednosti, tako da smo jih ignorirali. Takih vnosov je 8542.\n",
    "\n",
    "<img src=\"grafi/ozbej_staz_ignore.png\" alt=\"Slika\" style=\"width: 400px;\"/>\n",
    "\n",
    "Nato smo nad novimi podatki zgradili linearni regresijski model in izračunali Pearsonov koeficient, ki je enak **-0.95**. To pomeni, da sta si dolžina vozniškega staža in število povzročenih nesreč **obratno sorazmerna**. MSE na tem regresijskem modelu je enak **1832.32**.\n",
    "\n",
    "Izračunali smo tudi, da ljudje, mlajši od 21 let, povzročijo **8%** vseh prometnih nesreč in **6.45%** nesreč s smrtnim izzidom."
   ]
  },
  {
   "cell_type": "markdown",
   "metadata": {},
   "source": [
    "### Vpliv tipa nesreče na tip poškodbe\n",
    "\n",
    "<img src=\"grafi/jan_nesrece_poskodbe.png\" alt=\"Slika\" style=\"width: 600px;\"/>\n",
    "\n",
    "Iz vizualizacije smo izpustili nesreče, kjer so udeleženci brez poškodb oziroma z lažjimi poškodbami. Kot vidimo, je vrsta poškodbe odvisna od tipa nesreče. Iz grafa vidimo, da je pri čelnem trčenju največ smrtnih primerov, medtem ko pri povoženju živali ni bilo nobene smrtne žrtve (živali tukaj niso upoštevane)."
   ]
  },
  {
   "cell_type": "markdown",
   "metadata": {},
   "source": [
    "### Vpliv uporabe varnostnega pasu na tip poškodbe\n",
    "\n",
    "Ko smo obdelali podatke, smo ugotovili naslednje:\n",
    "\n",
    "* Število udeležencev prometnih nesreč, ki so bili pripeti z varnostnim pasom: **26897**\n",
    "* Število udeležencev prometnih nesreč, ki so niso bili pripeti z varnostnim pasom: **3006**\n",
    "* Odstotek ljudi, ki so bili pripeti: **89.9**\n",
    "\n",
    "Vidimo, da je bilo **90%** ljudi, udeleženih v prometnih nesrečah, pripetih z varnostnim pasom.\n",
    "\n",
    "<img src=\"grafi/bian_pasi.png\" alt=\"Slika\" style=\"width: 600px;\"/>\n",
    "\n",
    "Po vizualizaciji ugotovimo naslednje:\n",
    "\n",
    "* Odstotek nesreč s smrtnim izidom, kjer je bil udeleženec pripet z varnostnim pasom: **0.21%**\n",
    "* Odstotek nesreč s smrtnim izidom, kjer udeleženec ni bil pripet z varnostnim pasom: **1.23%**\n",
    "* Odstotek nesreč s hudimi telesnimi poškodbami, kjer udeleženec ni bil pripet z varnostnim pasom: **8.51%**\n",
    "* Število mrtvih ljudi, ki niso bili pripeti z varnostnim pasom: **37**\n",
    "\n",
    "Prej smo ugotovili, da je bilo **90%** udeležencev prometnih nesreč pripetih z varnostnim pasom. Od ostalih **10%** ljudi, ki niso bili pripeti z varnostnim pasom jih je **1.23%** umrlo v prometni nesreči, kar je **1%** več, kot pa pri udeležencih, kateri so bili pripeti. Hude telesne poškodbe jih je imelo okrog **9%**."
   ]
  },
  {
   "cell_type": "markdown",
   "metadata": {},
   "source": [
    "### Gručenje nesreč po geografski legi\n",
    "\n",
    "#### Število nesreč po regijah\n",
    "\n",
    "Najprej smo želeli ugotoviti, v katerih regijah se zgodi največ nesreč. Kraje smo razdelili v 12 regij.\n",
    "\n",
    "<img src=\"grafi/gal_regije.png\" alt=\"Slika\" style=\"width: 500px;\"/>\n",
    "\n",
    "Po naših pričakovanjih se je leta 2019 največ nesreč zgodilo v Osrednjeslovenski regiji, saj ima Ljubljana največjo gostoto prometa.\n",
    "\n",
    "#### K-means clustering\n",
    "\n",
    "Za začetek smo želeli gručiti nesreče po lokaciji tako, da bi dobili nekakšne \"psevdo\" slovenske pokrajine, ki so definirane po lokaciji prometnih nesreč. Za dosego tega cilja smo uporabili \"k-means clustering\". Število cluster-jev (gruč) smo izbrali 12, saj je toliko slovenskih pokrajin. K-means smo lahko uporabili, saj smo poznali strukturo naših podatkov in točno vedeli, koliko cluster-jev potrebujemo.\n",
    "\n",
    "<img src=\"grafi/ozbej_kmeans.png\" alt=\"Slika\" style=\"width: 600px;\"/>\n",
    "\n",
    "Algoritem je gručil nesreče v 12 pokrajin. Te pokrajine se sicer od dejanskih geografskih pokrajin rahlo razlikujejo, vendar pa so v večini podobne.\n",
    "\n",
    "#### HDBSCAN clustering\n",
    "\n",
    "Za cilj smo si zadali odkriti regije v Sloveniji, kjer je gostota nesreč največja. Za dosego tega cilja smo se odločili za uporabo clustering algoritma HDBSCAN. HDBSCAN je \"density based\" algoritem. To pomeni, da tvori gruče glede na gostoto regije. Želeli smo si najti regije, kjer se je leta 2019 zgodilo vsaj 500 nesreč.\n",
    "\n",
    "<img src=\"grafi/ozbej_hdbscan.png\" alt=\"Slika\" style=\"width: 600px;\"/>\n",
    "\n",
    "Algoritem je tvoril le 5 gruč, kjer je bila gostota dovolj velika in kjer je bilo v gruči več kot 500 nesreč. Iz grafa lahko vidimo, da je bila največja gostota nesreč v letu 2019 v okolici Ljubljane, Celja, Maribora, Primorske in Grosuplja. Iz grafa lahko razberemo tudi kje potekajo avtoceste in ostale večje ceste, saj so bolj intenzivne črne barve. Ker pa se na njih ni zgodilo več kot 500 nesreč ali pa gostota nesreč ni dovolj velika, jih je algoritem obravnaval kot nepomembne in jih zato ni gručil."
   ]
  },
  {
   "cell_type": "markdown",
   "metadata": {},
   "source": [
    "### Gradnja klasifikacijskega modela\n",
    "\n",
    "Za cilj smo si zadali, da zgradimo uspešen klasifikacijski model, ki napove izzid nesreče.\n",
    "\n",
    "Možni izzidi: z materialno škodo, z lažjo telesno poškodbo, s hudo telesno poškodbo, s smrtnim izzidom.\n",
    "\n",
    "Na vseh atributih smo zgradili 3 klasifikacijske modele: **Logistic Regression**, **Random Forest** in **MLP**. \n",
    "\n",
    "Klasifikacijska točnost:\n",
    "* Logistic Regression: 0.6791\n",
    "* Random Forest: 0.7293\n",
    "* MLP: 0.6368\n",
    "* Večinski klasifikator: 0.64\n",
    "\n",
    "Najbolj uspešen je bil model Random Forest, zato smo učenje nadaljevali na tem modelu.\n",
    "\n",
    "V naši podatkovni zbirki ima vsaka nesreča 35 atributov. Nekaj atributov predstavlja razne identifikacijske številke in ostale nepomembne atribute. Pri velikem številu atributov pa lahko pride do \"overfittinga\" oziroma pretiranega prileganja, kar lahko poslabša klasifikacijski model. Zato smo se odločili, da bomo upoštevali samo 6 najboljših atributov. Te atribute smo določili na 2 načina: **Chi-Square Test** in **Mutual Information**. \n",
    "\n",
    "Klasifikacijska točnost:\n",
    "* Chi-Square Test: 73.54\n",
    "* Mutual Information: 73.20\n",
    "\n",
    "Najboljši model je bil zgrajen z atributi, ki jih je izbral Chi-Square Test. Zato smo za gradnjo končnega modela uporabili te atribute. Chi-Square Test preveri odvisnosti med znanimi atributi in vrednostjo, ki jo želimo napovedati. Na podlagi tega nato določi, kateri atributi so najbolj pomembni za uspešno klasifikacijo.\n",
    "\n",
    "Model, ki smo ga zgradili, je ustvaril 1000 odločitvenih dreves z največjo globino 10 nivojev. Izzid nesreče je napovedal s klasifikacijsko točnostjo **73.54%**.\n",
    "\n",
    "<img src=\"grafi/class.png\" alt=\"Slika\" style=\"width: 800px;\"/>"
   ]
  },
  {
   "cell_type": "markdown",
   "metadata": {},
   "source": [
    "*V poročilu smo predstavili samo najpomembnejše vizualizacije in ugotovitve. Za ogled ostalih grafov in izvorne kode si poglejte datoteko `Porocilo.ipynb`.*"
   ]
  }
 ],
 "metadata": {
  "kernelspec": {
   "display_name": "Python 3",
   "language": "python",
   "name": "python3"
  },
  "language_info": {
   "codemirror_mode": {
    "name": "ipython",
    "version": 3
   },
   "file_extension": ".py",
   "mimetype": "text/x-python",
   "name": "python",
   "nbconvert_exporter": "python",
   "pygments_lexer": "ipython3",
   "version": "3.7.3"
  }
 },
 "nbformat": 4,
 "nbformat_minor": 2
}
