{
 "cells": [
  {
   "cell_type": "markdown",
   "metadata": {},
   "source": [
    "## Analiza prometnih nesreč leta 2019 (v Sloveniji)\n",
    "# Projektna naloga pri predmetu Podatkovno rudarjenje\n",
    "Mentor: doc. dr. Tomaž Curk\n",
    "\n",
    "## Člani skupine\n",
    "\n",
    "| Ime in priimek | Vpisna številka |\n",
    "| --- | --------------- |\n",
    "| Bian Klančnik | 63180147 |\n",
    "| Jan Weissenbach | 63180322 |\n",
    "| Gal Lindič | 63180182 |\n",
    "| Tadej Ločniškar | 63180184 |\n",
    "| Ožbej Golob | 63180105 |\n",
    "\n",
    "## Uvod\n",
    "\n",
    "Pri projektni nalogi smo si izbrali podatkovno zbirko, ki beleži različne podatke o prometnih nesrečah v letu 2019. Nad podatki smo izvedli analizo, pri tem smo analizirali podatke, ki so se nam zdeli zanimivi. Rezultate smo predstavili tudi s pomočjo različnih vizualizacij.\n",
    "\n",
    "## Opis podatkovne zbirke\n",
    "\n",
    "Za temo naše projektne naloge smo si izbrali podatkovno zbirko [Prometne nesreče v letu 2019](https://www.policija.si/o-slovenski-policiji/statistika/prometna-varnost).\n",
    "\n",
    "Atributi se nahajajo v `podatki/pn2019.csv`.  \n",
    "Pomembni atributi, ki smo jih analizirali: UraPN, VzrokNesrece, TipNesrece, VremenskeOkoliscine, StanjeVozisca, Povzrocitelj, Starost, Spol, Drzavljanstvo, UporabaVarnostnegaPasu, VozniskiStazVLetih, VozniskiStazVMesecih, VrednostAlkotesta.\n",
    "\n",
    "## Cilji\n",
    "\n",
    "* Vpliv alkohola, ure, spola, vozniškega staža na število povzročenih nesreč\n",
    "* Vpliv tipa nesreče na poškodbe\n",
    "* Vpliv uporabe varnostnega pasu na tip poškodbe\n",
    "* Odkriti najbolj rizično skupino udeležencev v prometu\n",
    "\n",
    "## Predstavitev rezultatov"
   ]
  },
  {
   "cell_type": "markdown",
   "metadata": {},
   "source": [
    "### Vpliv alkohola na število povzročenih nesreč\n",
    "\n",
    "Pri obdelavi podatkov smo ugotovili, da so v letu 2019 pijani vozniki povzročili **6.3%** vseh nesreč.  \n",
    "Od vseh nesreč je imelo smrtno žrtev **0.5%** nesreč. Proti pričakovanjem pa se je od vseh nesreč, ki jih je povzročil pijan voznik, s smrtno žrtvijo končalo samo **0.2%**.\n",
    "\n",
    "Pri pijanih voznikih smo pričakovali, da se bo število nesreč proti večeru večalo. Največje število nesreč smo pričakovali nekje med 1. in 3. uro zjutraj.\n",
    "\n",
    "<img src=\"grafi/ozbej_ure.png\" alt=\"Slika\" style=\"width: 400px;\"/>\n",
    "\n",
    "Po vizualizaciji smo ugotovili, da je največ nesreč zaradi pijanih voznikov **ob 19. uri**. Presenetljivo po tem začne število nesreč padati."
   ]
  },
  {
   "cell_type": "markdown",
   "metadata": {},
   "source": [
    "### Vpliv ure na število povzročenih nesreč\n"
   ]
  },
  {
   "cell_type": "markdown",
   "metadata": {},
   "source": [
    "### Vpliv spola na število povzročenih nesreč\n",
    "\n",
    "Splošno mnenje (moških) je, da so ženske slabše voznice, zato smo se odločili preveriti število povzročenih nesreč glede na spol..\n",
    "\n",
    "<img src=\"grafi/tadej_spol.png\" alt=\"Slika\" style=\"width: 400px;\"/>\n",
    "\n",
    "Po vizualizaciji opazimo, da so moški povzročili približno **dvakrat več** nesreč kot ženske. Da bi lahko točno določili, kdo procentualno povzroči več nesreč, bi rabili dostop do podatkov, ki povejo, koliko voznikov z izpitom je moških in koliko žensk. Vendar pa takšne odprte podatkovne zbirke nismo našli, zato smo pogledali število moških in žensk v Sloveniji in predpostavili, da je delež voznikov glede na spol podoben kot delež vsega prebivalstva glede na spol. \n",
    "\n",
    "Po podatkih iz [SiStat](https://pxweb.stat.si/SiStat/en) je leta 2019 v Sloveniji prebivalo 1,043,933.25 moških in 1,043,211.5 žensk (povprečno), tako da je delež moških in žensk razporejen enakomerno 50-50. Če predpostavimo, da je tudi delež voznikov glede na spol približno 50-50, ugotovimo, da moški procentualno povzročijo veliko več nesreč kot ženske. "
   ]
  },
  {
   "cell_type": "markdown",
   "metadata": {},
   "source": [
    "### Vpliv dolžine vozniškega staža na število povzročenih nesreč\n",
    "\n",
    "Splošno mnenje ljudi je, da mladi vozniki povzročijo več nesreč kot izkušeni. Zato smo se odločili, da bomo to hipotezo preverili.\n",
    "\n",
    "<img src=\"grafi/ozbej_staz.png\" alt=\"Slika\" style=\"width: 400px;\"/>\n",
    "\n",
    "Kot vidimo na grafu, je število ljudi z dolžino vozniškega staža 0 let sumljivo veliko. Zaradi tega je zgrajen regresijski model neuporaben (MSE je enak **87851.76**).\n",
    "\n",
    "Predpostavili smo, da so v podatkovni zbirki vnosi z dolžino staža 0 let in 0 mesecev neznane vrednosti, tako da smo jih ignorirali. Takih vnosov je 8542.\n",
    "\n",
    "<img src=\"grafi/ozbej_staz_ignore.png\" alt=\"Slika\" style=\"width: 400px;\"/>\n",
    "\n",
    "Nato smo nad novimi podatki zgradili linearni regresijski model in izračunali Pearsonov koeficient, ki je enak **-0.95**. To pomeni, da sta si dolžina vozniškega staža in število povzročenih nesreč **obratno sorazmerna**. MSE na tem regresijskem modelu je enak **1832.32**.\n",
    "\n",
    "Izračunali smo tudi, da ljudje, mlajši od 21 let, povzročijo **8%** vseh prometnih nesreč. Od vseh nesreč s smrtnim izzidom, so jih **6.45%** povzročili ljudje, mlajši od 21 let."
   ]
  },
  {
   "cell_type": "markdown",
   "metadata": {},
   "source": [
    "### Vpliv tipa nesreče na poškodbe\n",
    "\n",
    "<img src=\"grafi/jan_nesrece_poskodbe.png\" alt=\"Slika\" style=\"width: 600px;\"/>\n",
    "\n",
    "Iz vizualizacije smo izpustili nesreče, kjer so udeleženci brez poškodb oziroma z lažjimi poškodbami. Kot vidimo, je vrsta poškodbe odvisna od tipa nesreče. Iz grafa vidimo, da je pri čelnem trčenju največ smrtnih primerov, medtem ko pri povoženju živali ni bilo nobene smrtne žrtve (živali not included)."
   ]
  },
  {
   "cell_type": "markdown",
   "metadata": {},
   "source": [
    "### Vpliv uporabe varnostnega pasu na tip poškodbe\n",
    "\n",
    "Ko smo obdelali podatke, smo ugotovili naslednje:\n",
    "\n",
    "* Število udeležencev prometnih nesreč, ki so bili pripeti z varnostnim pasom: **26897**\n",
    "* Število udeležencev prometnih nesreč, ki so niso bili pripeti z varnostnim pasom: **3006**\n",
    "* Odstotek ljudi, ki so bili pripeti: **89.9**\n",
    "\n",
    "Vidimo, da je bilo **90%** ljudi, udeleženih v prometnih nesrečah, pripetih z varnostnim pasom.\n",
    "\n",
    "![Graf](grafi/bian_pasi.png)  \n",
    "**Slika 1:** Odstotek vrste poškodb glede na uporabo varnostnega pasu\n",
    "\n",
    "Po vizualizaciji ugotovimo naslednje:\n",
    "\n",
    "* Odstotek nesreč s smrtnim izidom, kjer je bil udeleženec pripet z varnostnim pasom: **0.21%**\n",
    "* Odstotek nesreč s smrtnim izidom, kjer udeleženec ni bil pripet z varnostnim pasom: **1.23%**\n",
    "* Odstotek nesreč s hudimi telesnimi poškodbami, kjer udeleženec ni bil pripet z varnostnim pasom: **8.51%**\n",
    "* Število mrtvih ljudi, ki niso bili pripeti z varnostnim pasom: **37**\n",
    "\n",
    "Prej smo ugotovili, da je bilo **90%** udeležencev prometnih nesreč pripetih z varnostnim pasom. Od ostalih **10%** ljudi, ki niso bili pripeti z varnostnim pasom jih je **1.23%** umrlo v prometni nesreči, kar je **1%** več, kot pa pri udeležencih, kateri so bili pripeti. Hude telesne poškodbe jih je imelo okrog **9%**."
   ]
  }
 ],
 "metadata": {
  "kernelspec": {
   "display_name": "Python 3",
   "language": "python",
   "name": "python3"
  },
  "language_info": {
   "codemirror_mode": {
    "name": "ipython",
    "version": 3
   },
   "file_extension": ".py",
   "mimetype": "text/x-python",
   "name": "python",
   "nbconvert_exporter": "python",
   "pygments_lexer": "ipython3",
   "version": "3.7.3"
  }
 },
 "nbformat": 4,
 "nbformat_minor": 2
}
