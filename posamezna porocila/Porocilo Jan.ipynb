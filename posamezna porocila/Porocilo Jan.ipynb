{
 "cells": [
  {
   "cell_type": "code",
   "execution_count": 1,
   "metadata": {
    "scrolled": false
   },
   "outputs": [],
   "source": [
    "import matplotlib.pyplot as plt\n",
    "from csv import DictReader\n",
    "data = list(DictReader(open('podatki/pn2019.csv', 'rt', encoding='utf-8'), delimiter=\";\"))\n",
    "\n",
    "slovar = {}\n",
    "seznam_ID = []\n",
    "for row in data:\n",
    "    poskodba = row[\"PoskodbaUdelezenca\"]\n",
    "    if(poskodba == \"BREZ POSKODBE-UZ\"):  #uz je samo uradni zaznamek\n",
    "        poskodba = \"BREZ POSKODBE\"\n",
    "    if(poskodba not in slovar.keys()):\n",
    "        slovar[poskodba] = 1\n",
    "    else:\n",
    "        slovar[poskodba] += 1\n",
    "\n",
    "poskodbe = slovar.keys()\n",
    "stevilo = slovar.values()\n",
    "plt.figure(figsize=(20, 10))\n",
    "plt.bar(poskodbe, stevilo)\n",
    "plt.xlabel(\"Tip poskodbe\")\n",
    "plt.ylabel(\"Stevilo poskodovanih\");       "
   ]
  },
  {
   "cell_type": "code",
   "execution_count": 6,
   "metadata": {},
   "outputs": [
    {
     "data": {
      "image/png": "[encoded data removed]",
      "text/plain": [
       "<Figure size 1440x1080 with 1 Axes>"
      ]
     },
     "metadata": {
      "needs_background": "light"
     },
     "output_type": "display_data"
    },
    {
     "name": "stdout",
     "output_type": "stream",
     "text": [
      "Tabela podatkov (Če atributa ni pomeni, da se poškodba v tem tipu nesreče ni zgodila, '' pa je neveljaven primer):\n",
      "\n",
      "Trčenje v stoječe vozilo: {'LAZJA TELESNA POSKODBA': 355, 'HUDA TELESNA POSKODBA': 9, 'BREZ POSKODBE': 5305, '': 16}\n",
      "Čelno trčenje: {'SMRT': 26, 'LAZJA TELESNA POSKODBA': 1070, 'HUDA TELESNA POSKODBA': 149, 'BREZ POSKODBE': 1853, '': 6}\n",
      "Bočno trčenje: {'SMRT': 17, 'LAZJA TELESNA POSKODBA': 1497, 'HUDA TELESNA POSKODBA': 135, 'BREZ POSKODBE': 5338, '': 12}\n",
      "Naletno trčenje: {'SMRT': 7, 'LAZJA TELESNA POSKODBA': 1153, 'HUDA TELESNA POSKODBA': 45, 'BREZ POSKODBE': 3863, '': 16}\n",
      "Trčenje v objekt: {'SMRT': 21, 'LAZJA TELESNA POSKODBA': 506, 'HUDA TELESNA POSKODBA': 77, 'BREZ POSKODBE': 2155, '': 4}\n",
      "Prevrnitev vozila: {'SMRT': 15, 'LAZJA TELESNA POSKODBA': 719, 'HUDA TELESNA POSKODBA': 153, 'BREZ POSKODBE': 442, '': 2}\n",
      "Ostalo: {'SMRT': 1, 'LAZJA TELESNA POSKODBA': 677, 'HUDA TELESNA POSKODBA': 114, 'BREZ POSKODBE': 2078, '': 10}\n",
      "Oplazenje: {'SMRT': 1, 'LAZJA TELESNA POSKODBA': 297, 'HUDA TELESNA POSKODBA': 35, 'BREZ POSKODBE': 4337, '': 21}\n",
      "Povoženje pešca: {'SMRT': 14, 'LAZJA TELESNA POSKODBA': 444, 'HUDA TELESNA POSKODBA': 95, 'BREZ POSKODBE': 515, '': 1}\n",
      "Povoženje živali: {'LAZJA TELESNA POSKODBA': 38, 'HUDA TELESNA POSKODBA': 2, 'BREZ POSKODBE': 249}\n"
     ]
    }
   ],
   "source": [
    "import numpy as np\n",
    "parking = {}\n",
    "celno = {}\n",
    "bocno = {}\n",
    "nalet = {}\n",
    "objekt = {}\n",
    "prevrnjeno = {}\n",
    "ostalo = {}\n",
    "oplazenje = {}\n",
    "pesec = {}\n",
    "zivali = {}\n",
    "for row in data:\n",
    "    tip = row[\"TipNesrece\"]\n",
    "    poskodba = row[\"PoskodbaUdelezenca\"]\n",
    "    \n",
    "    if(poskodba == \"BREZ POSKODBE-UZ\"):  #uz je samo uradni zaznamek\n",
    "        poskodba = \"BREZ POSKODBE\"\n",
    "        \n",
    "    if(tip == 'TRCENJE V STOJECE / PARKIRANO VOZILO'):\n",
    "        if(poskodba not in parking.keys()):\n",
    "            parking[poskodba] = 1\n",
    "        else:\n",
    "            parking[poskodba] += 1\n",
    "            \n",
    "    if(tip == 'CELNO TRCENJE'):\n",
    "        if(poskodba not in celno.keys()):\n",
    "            celno[poskodba] = 1\n",
    "        else:\n",
    "            celno[poskodba] += 1\n",
    "            \n",
    "    if(tip == 'BOCNO TRCENJE'):\n",
    "        if(poskodba not in bocno.keys()):\n",
    "            bocno[poskodba] = 1\n",
    "        else:\n",
    "            bocno[poskodba] += 1\n",
    "            \n",
    "    if(tip == 'NALETNO TRCENJE'):\n",
    "        if(poskodba not in nalet.keys()):\n",
    "            nalet[poskodba] = 1\n",
    "        else:\n",
    "            nalet[poskodba] += 1\n",
    "            \n",
    "    if(tip == 'TRCENJE V OBJEKT'):\n",
    "        if(poskodba not in objekt.keys()):\n",
    "            objekt[poskodba] = 1\n",
    "        else:\n",
    "            objekt[poskodba] += 1\n",
    "            \n",
    "    if(tip == 'PREVRNITEV VOZILA'):\n",
    "        if(poskodba not in prevrnjeno.keys()):\n",
    "            prevrnjeno[poskodba] = 1\n",
    "        else:\n",
    "            prevrnjeno[poskodba] += 1\n",
    "            \n",
    "    if(tip == 'OSTALO'):\n",
    "        if(poskodba not in ostalo.keys()):\n",
    "            ostalo[poskodba] = 1\n",
    "        else:\n",
    "            ostalo[poskodba] += 1\n",
    "            \n",
    "    if(tip == 'OPLAZENJE'):\n",
    "        if(poskodba not in oplazenje.keys()):\n",
    "            oplazenje[poskodba] = 1\n",
    "        else:\n",
    "            oplazenje[poskodba] += 1\n",
    "            \n",
    "    if(tip == 'POVOZENJE PESCA'):\n",
    "        if(poskodba not in pesec.keys()):\n",
    "            pesec[poskodba] = 1\n",
    "        else:\n",
    "            pesec[poskodba] += 1\n",
    "            \n",
    "    if(tip == 'POVOZENJE ZIVALI'):\n",
    "        if(poskodba not in zivali.keys()):\n",
    "            zivali[poskodba] = 1\n",
    "        else:\n",
    "            zivali[poskodba] += 1\n",
    "\n",
    "parking = {k: v for k, v in sorted(parking.items(), reverse=True, key=lambda item: item[0])}\n",
    "celno = {k: v for k, v in sorted(celno.items(), reverse=True, key=lambda item: item[0])}\n",
    "bocno = {k: v for k, v in sorted(bocno.items(), reverse=True, key=lambda item: item[0])}\n",
    "nalet = {k: v for k, v in sorted(nalet.items(), reverse=True, key=lambda item: item[0])}\n",
    "objekt = {k: v for k, v in sorted(objekt.items(), reverse=True, key=lambda item: item[0])}\n",
    "prevrnjeno = {k: v for k, v in sorted(prevrnjeno.items(), reverse=True, key=lambda item: item[0])}\n",
    "ostalo = {k: v for k, v in sorted(ostalo.items(), reverse=True, key=lambda item: item[0])}\n",
    "oplazenje = {k: v for k, v in sorted(oplazenje.items(), reverse=True, key=lambda item: item[0])}\n",
    "pesec = {k: v for k, v in sorted(pesec.items(), reverse=True, key=lambda item: item[0])}\n",
    "zivali = {k: v for k, v in sorted(zivali.items(), reverse=True, key=lambda item: item[0])}\n",
    "\n",
    "vsi_slovarji = [parking, celno, bocno, nalet, objekt, prevrnjeno, ostalo, oplazenje, pesec, zivali]\n",
    "brez = []\n",
    "lazja = []\n",
    "smrt = []\n",
    "huda = []\n",
    "\n",
    "for i in range(0, 10):\n",
    "    if('BREZ POSKODBE' not in vsi_slovarji[i]):\n",
    "        brez.append(0)\n",
    "    else:\n",
    "        brez.append(vsi_slovarji[i]['BREZ POSKODBE'])\n",
    "        \n",
    "for i in range(0, 10):\n",
    "    if('LAZJA TELESNA POSKODBA' not in vsi_slovarji[i]):\n",
    "        lazja.append(0)\n",
    "    else:\n",
    "        lazja.append(vsi_slovarji[i]['LAZJA TELESNA POSKODBA'])\n",
    "        \n",
    "for i in range(0, 10):\n",
    "    if('SMRT' not in vsi_slovarji[i]):\n",
    "        smrt.append(0)\n",
    "    else:\n",
    "        smrt.append(vsi_slovarji[i]['SMRT'])\n",
    "        \n",
    "for i in range(0, 10):\n",
    "    if('HUDA TELESNA POSKODBA' not in vsi_slovarji[i]):\n",
    "        huda.append(0)\n",
    "    else:\n",
    "        huda.append(vsi_slovarji[i]['HUDA TELESNA POSKODBA'])\n",
    "plt.figure(figsize=(20, 15))\n",
    "barWidth = 0.25\n",
    "r1 = np.arange(len(brez))\n",
    "r2 = [x + barWidth for x in r1]\n",
    "# r3 = [x + barWidth for x in r2]\n",
    "# r4 = [x + barWidth for x in r3]\n",
    "# plt.bar(r1, brez, color='green', width=barWidth, edgecolor='white', label='Brez poskodb')\n",
    "# plt.bar(r2, lazja, color='chartreuse', width=barWidth, edgecolor='white', label='Lazja poskodba')\n",
    "plt.bar(r1, huda, color='orange', width=barWidth, edgecolor='white', label='Huda poskodba')\n",
    "plt.bar(r2, smrt, color='red', width=barWidth, edgecolor='white', label='Smrt')\n",
    "\n",
    "plt.title(\"Vpliv tipa nesreče na poškodbe\")\n",
    "plt.xlabel('Tipi nesrec', fontweight='bold', fontsize=12)\n",
    "plt.ylabel('Stevilo ljudi', fontweight='bold')\n",
    "plt.xticks([r + barWidth for r in range(len(lazja))], ['Trcenje v stojece vozilo', 'Celno trcenje',\n",
    "                                                       'Bocno trcenje', 'Naletno trcenje', 'Trcenje v objekt',\n",
    "                                                       'Prevrnitev vozila', 'Ostalo', 'Oplazenje', 'Povozenje pesca',\n",
    "                                                       'Povozenje zivali'])\n",
    "plt.legend()\n",
    "plt.show()\n",
    "\n",
    "print(\"Tabela podatkov (Če atributa ni pomeni, da se poškodba v tem tipu nesreče ni zgodila, '' pa je neveljaven primer):\" + \"\\n\")\n",
    "print(\"Trčenje v stoječe vozilo:\", parking)\n",
    "print('Čelno trčenje:', celno)\n",
    "print('Bočno trčenje:', bocno)\n",
    "print('Naletno trčenje:', nalet)\n",
    "print('Trčenje v objekt:', objekt)\n",
    "print('Prevrnitev vozila:', prevrnjeno)\n",
    "print('Ostalo:', ostalo)\n",
    "print('Oplazenje:', oplazenje)\n",
    "print('Povoženje pešca:', pesec)\n",
    "print('Povoženje živali:', zivali)"
   ]
  },
  {
   "cell_type": "markdown",
   "metadata": {},
   "source": [
    "***Iz podatkov je razvidno da je daleč največ nesreč ne glede na tip nesreče, nesreč brez poškodb. Zanimivo pa je, da pri povoženju živali in trčenju v stoječe vozilo v letu 2019 ni bilo smrtnih žrtev. Poleg tega pa je zanimivo, da je bilo pri Naletnih trčenjih samo 7 smrtnih žrtev, čeprav so v to vključeni tudi naleti na avtocesti, kjer gre za bistveno višje hitrosti.***"
   ]
  },
  {
   "cell_type": "code",
   "execution_count": 3,
   "metadata": {},
   "outputs": [
    {
     "data": {
      "image/png": "[encoded data removed]",
      "text/plain": [
       "<Figure size 432x288 with 1 Axes>"
      ]
     },
     "metadata": {
      "needs_background": "light"
     },
     "output_type": "display_data"
    }
   ],
   "source": [
    "slovar = {}\n",
    "st_nesrec_smrt = 0\n",
    "for row in data:\n",
    "    oseba = row[\"Povzrocitelj\"]\n",
    "    poskodba = row[\"PoskodbaUdelezenca\"] \n",
    "    if(poskodba == \"SMRT\"):\n",
    "        st_nesrec_smrt += 1\n",
    "        if(oseba not in slovar.keys()):\n",
    "            slovar[oseba] = 1\n",
    "        else:\n",
    "            slovar[oseba] += 1\n",
    "for i, j in slovar.items():\n",
    "    slovar[i] = (j / st_nesrec_smrt) * 100\n",
    "\n",
    "plt.bar(slovar.keys(), slovar.values())\n",
    "plt.xlabel(\"Kdo je umrl v nesreči\")\n",
    "plt.ylabel(\"Število umrlih v procentih\");"
   ]
  },
  {
   "cell_type": "code",
   "execution_count": 4,
   "metadata": {},
   "outputs": [
    {
     "name": "stdout",
     "output_type": "stream",
     "text": [
      "Procent nesreč kjer je povzročitelj mlajši od 21 let: 7.997741814076026 %\n",
      "Procent nesreč s smrtnim izidom kjer je povzročitelj mlajši od 21 let: 6.451612903225806 %\n"
     ]
    }
   ],
   "source": [
    "stevec = 0\n",
    "stevec2 = 0\n",
    "for row in data:\n",
    "    oseba = row[\"Povzrocitelj\"]\n",
    "    starost = row[\"Starost\"]\n",
    "    if(oseba == \"POVZROCITELJ\"):\n",
    "        stevec2 += 1\n",
    "        if(float(starost) < 21):\n",
    "            stevec += 1\n",
    "procent = stevec / stevec2 * 100\n",
    "print(\"Procent nesreč kjer je povzročitelj mlajši od 21 let:\", procent, \"%\")\n",
    "\n",
    "stevec = 0\n",
    "stevec2 = 0\n",
    "for row in data:\n",
    "    oseba = row[\"Povzrocitelj\"]\n",
    "    starost = row[\"Starost\"]\n",
    "    poskodba = row[\"PoskodbaUdelezenca\"]\n",
    "    if(poskodba == \"SMRT\"):\n",
    "        if(oseba == \"POVZROCITELJ\"):\n",
    "            stevec2 += 1\n",
    "            if(float(starost) < 21):\n",
    "                stevec += 1\n",
    "procent = stevec / stevec2 * 100\n",
    "print(\"Procent nesreč s smrtnim izidom kjer je povzročitelj mlajši od 21 let:\", procent, \"%\")"
   ]
  },
  {
   "cell_type": "code",
   "execution_count": null,
   "metadata": {},
   "outputs": [],
   "source": []
  }
 ],
 "metadata": {
  "kernelspec": {
   "display_name": "Python 3",
   "language": "python",
   "name": "python3"
  },
  "language_info": {
   "codemirror_mode": {
    "name": "ipython",
    "version": 3
   },
   "file_extension": ".py",
   "mimetype": "text/x-python",
   "name": "python",
   "nbconvert_exporter": "python",
   "pygments_lexer": "ipython3",
   "version": "3.7.3"
  }
 },
 "nbformat": 4,
 "nbformat_minor": 2
}
